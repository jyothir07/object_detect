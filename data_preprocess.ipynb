{
 "cells": [
  {
   "cell_type": "code",
   "execution_count": null,
   "metadata": {},
   "outputs": [],
   "source": [
    "import matplotlib.pyplot as plt \n",
    "import numpy as np \n",
    "import os \n",
    "import pandas as pd \n",
    "\n",
    "import xml.etree.ElementTree as ET\n",
    "import glob\n",
    "import json\n",
    "import shutil\n"
   ]
  },
  {
   "cell_type": "markdown",
   "metadata": {},
   "source": [
    "remove invalid files"
   ]
  },
  {
   "cell_type": "code",
   "execution_count": null,
   "metadata": {},
   "outputs": [],
   "source": [
    "# rename to jpg\n",
    "input_dir = \"/home/jyothir-dr/Downloads/vehicles/train/Final Train Dataset/\"\n",
    "ext = [\".png\", \".JPG\", \".PNG\"]\n",
    "\n",
    "files = os.listdir(input_dir)\n",
    "print(len(files))\n",
    "for fil in files:\n",
    "    for x in ext:\n",
    "        try:\n",
    "            if fil.endswith(x): \n",
    "                os.rename(os.path.join(input_dir,fil), os.path.join(input_dir,os.path.basename(fil)[:-4]+\".jpg\"))\n",
    "                # print(os.path.join(input_dir,fil), os.path.join(input_dir,os.path.basename(fil)[:-4]+\".jpg\"))\n",
    "            elif fil.endswith(\".jpeg\"): #str(x) for x in ext):\n",
    "                os.rename(os.path.join(input_dir,fil), os.path.join(input_dir, os.path.basename(fil)[:-5]+\".jpg\"))\n",
    "                # print(os.path.join(input_dir,fil), os.path.join(input_dir, os.path.basename(fil)[:-5]+\".jpg\"))\n",
    "        except:\n",
    "            FileNotFoundError"
   ]
  },
  {
   "cell_type": "code",
   "execution_count": null,
   "metadata": {},
   "outputs": [],
   "source": [
    "# remove wrong data\n",
    "classes = [\"car\", \"bus\", \"motorbike\"]\n",
    "def remove_wrong_annot (lbl_path, wrg_fol):\n",
    "    files = glob.glob(os.path.join(lbl_path, '*.xml'))\n",
    "    annotations = [os.path.join(lbl_path, f) for f in files if f.endswith('.xml')]\n",
    "    data_list = []\n",
    "    for file_path in annotations:\n",
    "        try:\n",
    "            root = ET.parse(file_path).getroot()\n",
    "            data = {}\n",
    "            # if cv2.imread(str(Path(str(datadir) + '/'+ root.find(\"./filename\").text))):\n",
    "            if os.path.basename(root.find(\"./filename\").text).split('.')[:-1] != os.path.basename(file_path).split('.')[:-1]:\n",
    "                if os.path.basename(root.find(\"./filename\").text.replace(\"\\t\", \"  \")).split('.')[:-1]!= os.path.basename(file_path).split('.')[:-1]:\n",
    "                    shutil.move(file_path, os.path.join(wrg_fol, os.path.basename(file_path)))\n",
    "                    try:\n",
    "                        shutil.move(str(lbl_path+os.path.basename(file_path).split('.')[:-1][0]+\".jpg\"),\n",
    "                                        str(os.path.join(wrg_fol, os.path.basename(file_path).split('.')[:-1][0] + \".jpg\")))\n",
    "                    except:\n",
    "                        FileExistsError\n",
    "        except:\n",
    "            pass\n"
   ]
  },
  {
   "cell_type": "code",
   "execution_count": null,
   "metadata": {},
   "outputs": [],
   "source": [
    "wrg_fol = \"/home/jyothir-dr/Downloads/vehicles/train/wrong\"\n",
    "remove_wrong_annot(input_dir, wrg_fol)"
   ]
  },
  {
   "cell_type": "code",
   "execution_count": null,
   "metadata": {},
   "outputs": [],
   "source": [
    "classes = [\"car\", \"bus\", \"motorbike\"]\n",
    "idx_list = [1, 2, 3]\n",
    "datadir = \"/home/jyothir-dr/Downloads/vehicles/train/Final Train Dataset/\"\n",
    "\n",
    "def generate_df (lbl_path):\n",
    "    files = glob.glob(os.path.join(lbl_path, '*.xml'))\n",
    "    annotations = [os.path.join(lbl_path, f) for f in files if f.endswith('.xml')]\n",
    "    print(\"length of anno = \", len(annotations))\n",
    "    data_list = []\n",
    "    for file_path in annotations:\n",
    "        try:\n",
    "            root = ET.parse(file_path).getroot()\n",
    "            data = {}\n",
    "            # if cv2.imread(str(Path(str(datadir) + '/'+ root.find(\"./filename\").text))):\n",
    "            if os.path.exists(str((lbl_path) + '/'+ root.find(\"./filename\").text)):\n",
    "\n",
    "                if root.find(\"./object/name\").text in classes:\n",
    "                    index = classes.index(root.find(\"./object/name\").text)\n",
    "                    data['filename'] = (str(lbl_path) + '/'+ root.find(\"./filename\").text)\n",
    "                    data['width'] = root.find(\"./size/width\").text\n",
    "                    data['height'] = root.find(\"./size/height\").text\n",
    "                    data['class'] = int(index)+1\n",
    "                    data['xmin'] = int(root.find(\"./object/bndbox/xmin\").text)\n",
    "                    data['ymin'] = int(root.find(\"./object/bndbox/ymin\").text)\n",
    "                    data['xmax'] = int(root.find(\"./object/bndbox/xmax\").text)\n",
    "                    data['ymax'] = int(root.find(\"./object/bndbox/ymax\").text)\n",
    "                    data_list.append(data)\n",
    "        except:\n",
    "            pass\n",
    "        # if root:\n",
    "\n",
    "    return pd.DataFrame(data_list)"
   ]
  },
  {
   "cell_type": "code",
   "execution_count": null,
   "metadata": {},
   "outputs": [],
   "source": [
    "train_df = generate_df(datadir)\n",
    "print(train_df.shape)\n",
    "train_df\n",
    "train_df.to_pickle(\"/home/jyothir-dr/Downloads/vehicles/train/3class_df.pkl\")  "
   ]
  },
  {
   "cell_type": "code",
   "execution_count": null,
   "metadata": {},
   "outputs": [],
   "source": [
    "train_df['class'].isnull().values.any(), train_df['class'].value_counts()"
   ]
  },
  {
   "cell_type": "code",
   "execution_count": null,
   "metadata": {},
   "outputs": [],
   "source": [
    "train_df['class'].value_counts().sort_index().plot(kind='bar')"
   ]
  },
  {
   "cell_type": "code",
   "execution_count": null,
   "metadata": {},
   "outputs": [],
   "source": [
    "# spli data\n",
    "save_dir = \"/home/jyothir-dr/Downloads/vehicles/train/\"\n",
    "img_list = []\n",
    "xml_list = []\n",
    "import random\n",
    "random.seed(111)\n",
    "\n",
    "def make_dir(path1):\n",
    "    if not os.path.isdir(path1):\n",
    "        os.makedirs(path1)\n",
    "        \n",
    "def list_dir (path):\n",
    "    img_list =[]\n",
    "    file_list = os.listdir(path)\n",
    "    for x in file_list:\n",
    "        if x.endswith(\".jpg\"):\n",
    "            img_list.append(x)\n",
    "        else:\n",
    "            xml_list.append(x)\n",
    "            # print(x)\n",
    "    return img_list\n",
    "\n",
    "def split_data(img_list, fol_name, test_num):\n",
    "    make_dir(os.path.join(save_dir, fol_name))\n",
    "    print(len(img_list), test_num)\n",
    "    random.shuffle(img_list)\n",
    "    test_imgs = img_list[:test_num]\n",
    "    test_data = [os.path.join(datadir,  x) for x in test_imgs]\n",
    "    test_labels = [os.path.join(datadir,  x.replace(\".jpg\", \".xml\")) for x in test_imgs]\n",
    "    # print(test_labels)\n",
    "\n",
    "    for file in test_data:\n",
    "        # print(file)\n",
    "        shutil.move(file, os.path.join(save_dir, fol_name))\n",
    "    for file in test_labels:\n",
    "        # print(\"l:\", file)\n",
    "        shutil.move(file, os.path.join(save_dir, fol_name))\n",
    "    if fol_name == \"val\":\n",
    "        train_dir = os.path.join(save_dir, \"train\")\n",
    "        os.rename(datadir, train_dir)\n",
    "        "
   ]
  },
  {
   "cell_type": "code",
   "execution_count": null,
   "metadata": {},
   "outputs": [],
   "source": [
    "img_list = list_dir(datadir)\n",
    "total = len(img_list)\n",
    "test_num=int(np.round(total*0.15))\n",
    "print(\"Total number:\",total,\"\\n\",\"Test number:\",test_num,\"\\n\",\"Val number:\",test_num)\n",
    "split_data(img_list, \"test\", test_num)\n",
    "\n",
    "img_list2 = list_dir(datadir)\n",
    "split_data(img_list2, \"val\", test_num)\n"
   ]
  },
  {
   "cell_type": "code",
   "execution_count": 15,
   "metadata": {},
   "outputs": [
    {
     "name": "stdout",
     "output_type": "stream",
     "text": [
      "labels_ids:  [1, 2, 3]\n",
      "Start converting !\n"
     ]
    },
    {
     "name": "stderr",
     "output_type": "stream",
     "text": [
      "100%|██████████| 1966/1966 [00:00<00:00, 4702.76it/s]\n"
     ]
    },
    {
     "name": "stdout",
     "output_type": "stream",
     "text": [
      "Start converting !\n"
     ]
    },
    {
     "name": "stderr",
     "output_type": "stream",
     "text": [
      "100%|██████████| 421/421 [00:00<00:00, 3336.88it/s]\n"
     ]
    },
    {
     "name": "stdout",
     "output_type": "stream",
     "text": [
      "Start converting !\n"
     ]
    },
    {
     "name": "stderr",
     "output_type": "stream",
     "text": [
      "100%|██████████| 421/421 [00:00<00:00, 3194.37it/s]\n"
     ]
    }
   ],
   "source": [
    "from utils import create_json, get_label2id\n",
    "label2id = get_label2id(labels_path=\"labels.txt\")\n",
    "save_dir = \"/home/jyothir-dr/Downloads/vehicles/train\"\n",
    "dir_path = \"/home/jyothir-dr/Downloads/vehicles/train/train\"\n",
    "output_jsonpath = os.path.join(save_dir, 'annotation_train.json')\n",
    "create_json(label2id, dir_path, output_jsonpath)\n",
    "dir_path = \"/home/jyothir-dr/Downloads/vehicles/train/test\"\n",
    "output_jsonpath = os.path.join(save_dir, 'annotation_test.json')\n",
    "create_json(label2id, dir_path, output_jsonpath)\n",
    "dir_path = \"/home/jyothir-dr/Downloads/vehicles/train/val\"\n",
    "output_jsonpath = os.path.join(save_dir, 'annotation_val.json')\n",
    "create_json(label2id, dir_path, output_jsonpath)\n"
   ]
  },
  {
   "cell_type": "code",
   "execution_count": 14,
   "metadata": {},
   "outputs": [
    {
     "name": "stdout",
     "output_type": "stream",
     "text": [
      "842\n"
     ]
    }
   ],
   "source": [
    "import cv2\n",
    "input_dir = \"/home/jyothir-dr/Downloads/vehicles/train/test\"\n",
    "files = os.listdir(input_dir)\n",
    "print(len(files))\n",
    "for fil in files:\n",
    "    if fil.endswith(\".jpg\"):\n",
    "        img = cv2.imread(os.path.join(input_dir,os.path.basename(fil)), 0)\n",
    "        img2 = cv2.cvtColor(img, cv2.COLOR_GRAY2BGR)\n",
    "        cv2.imwrite(os.path.join(input_dir ,os.path.basename(fil)), img2)\n"
   ]
  }
 ],
 "metadata": {
  "kernelspec": {
   "display_name": "Python 3.8.13 ('detect')",
   "language": "python",
   "name": "python3"
  },
  "language_info": {
   "codemirror_mode": {
    "name": "ipython",
    "version": 3
   },
   "file_extension": ".py",
   "mimetype": "text/x-python",
   "name": "python",
   "nbconvert_exporter": "python",
   "pygments_lexer": "ipython3",
   "version": "3.8.13"
  },
  "orig_nbformat": 4,
  "vscode": {
   "interpreter": {
    "hash": "2cbf2d2672eb1d51db66da973b7f534e15d3112a510a2d9edb972ac6185763d1"
   }
  }
 },
 "nbformat": 4,
 "nbformat_minor": 2
}
